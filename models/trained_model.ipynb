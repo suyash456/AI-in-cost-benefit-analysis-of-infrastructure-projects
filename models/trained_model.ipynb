{
 "cells": [
  {
   "cell_type": "code",
   "execution_count": 3,
   "id": "1764687d",
   "metadata": {},
   "outputs": [],
   "source": [
    "import pandas as pd\n",
    "import numpy as np\n",
    "from sklearn.model_selection import train_test_split\n",
    "from sklearn.preprocessing import StandardScaler, LabelEncoder\n",
    "from sklearn.metrics import classification_report, accuracy_score, mean_absolute_error, mean_squared_error, r2_score\n",
    "import xgboost as xgb\n",
    "import joblib"
   ]
  },
  {
   "cell_type": "code",
   "execution_count": 2,
   "id": "c1e6fa79",
   "metadata": {},
   "outputs": [
    {
     "name": "stdout",
     "output_type": "stream",
     "text": [
      "Collecting xgboost\n",
      "  Downloading xgboost-2.1.4-py3-none-win_amd64.whl (124.9 MB)\n",
      "Requirement already satisfied: numpy in c:\\users\\suyash holkar\\anaconda3\\lib\\site-packages (from xgboost) (1.26.4)\n",
      "Requirement already satisfied: scipy in c:\\users\\suyash holkar\\anaconda3\\lib\\site-packages (from xgboost) (1.13.1)\n",
      "Installing collected packages: xgboost\n",
      "Successfully installed xgboost-2.1.4\n"
     ]
    }
   ],
   "source": [
    "!pip install xgboost"
   ]
  },
  {
   "cell_type": "code",
   "execution_count": 4,
   "id": "70ee8552",
   "metadata": {},
   "outputs": [],
   "source": [
    "data=pd.read_csv(\"D:\\Cost_Benefit_AI_App\\pythonProject\\data\\Civil Engineering Global Project Dataset.csv\")"
   ]
  },
  {
   "cell_type": "code",
   "execution_count": null,
   "id": "3a2e653f",
   "metadata": {},
   "outputs": [],
   "source": [
    "# Drop unnecessary columns\n",
    "data.drop(columns=['Project ID'], inplace=True)"
   ]
  },
  {
   "cell_type": "code",
   "execution_count": 6,
   "id": "4ddacf90",
   "metadata": {},
   "outputs": [
    {
     "name": "stdout",
     "output_type": "stream",
     "text": [
      "   Certificates  Years of Experience  age  Time Arrival Strafe  Project Cost  \\\n",
      "0             0                    5   45                 5.26      141144.0   \n",
      "1            12                    7   34                 2.66     1005257.0   \n",
      "2             0                    4   21                 5.39       51424.0   \n",
      "3             1                    3   52                 0.99      186154.0   \n",
      "4             1                    2   46                 1.41      135718.0   \n",
      "\n",
      "   Project Proximity  Violation Risk Index  Company PCAB Score  \\\n",
      "0             111.56                  0.63                   2   \n",
      "1             131.46                  0.31                   3   \n",
      "2             100.31                  0.52                   3   \n",
      "3             123.69                  0.67                   3   \n",
      "4             101.17                  0.66                   2   \n",
      "\n",
      "   Weekly Overtime Hours  Salary Bracket  is_good  \n",
      "0                    5.0               2        1  \n",
      "1                    5.0               3        0  \n",
      "2                    3.0               1        0  \n",
      "3                   10.0               1        0  \n",
      "4                    4.0               1        0  \n",
      "        Certificates  Years of Experience  age  Time Arrival Strafe  \\\n",
      "999995            13                    7   31                -5.97   \n",
      "999996            12                    6   40               -21.35   \n",
      "999997             0                    3   18                 6.66   \n",
      "999998            14                    6   26                -5.61   \n",
      "999999            12                    6   29               -10.89   \n",
      "\n",
      "        Project Cost  Project Proximity  Violation Risk Index  \\\n",
      "999995     1028680.0             133.86                  0.28   \n",
      "999996      977952.0             132.24                  0.37   \n",
      "999997       74561.0             103.94                  0.58   \n",
      "999998     1014347.0             124.71                  0.19   \n",
      "999999      975287.0             134.87                  0.29   \n",
      "\n",
      "        Company PCAB Score  Weekly Overtime Hours  Salary Bracket  is_good  \n",
      "999995                   3                    6.0               4        1  \n",
      "999996                   4                    6.0               2        1  \n",
      "999997                   2                    4.0               1        0  \n",
      "999998                   4                    2.0               3        1  \n",
      "999999                   4                    8.0               2        1  \n"
     ]
    }
   ],
   "source": [
    "print(data.head())\n",
    "print(data.tail())"
   ]
  },
  {
   "cell_type": "code",
   "execution_count": 9,
   "id": "65245040",
   "metadata": {},
   "outputs": [],
   "source": [
    "# Encode categorical column if necessary\n",
    "if data['Salary Bracket'].dtype == 'object':\n",
    "    le = LabelEncoder()\n",
    "    data['Salary Bracket'] = le.fit_transform(data['Salary Bracket'])"
   ]
  },
  {
   "cell_type": "code",
   "execution_count": 11,
   "id": "41ad6620",
   "metadata": {},
   "outputs": [],
   "source": [
    "# Features and Target\n",
    "features = data.columns.drop('is_good')\n",
    "X = data[features]\n",
    "y = data['is_good']"
   ]
  },
  {
   "cell_type": "code",
   "execution_count": 12,
   "id": "90a33ed2",
   "metadata": {},
   "outputs": [],
   "source": [
    "# Feature Scaling\n",
    "scaler = StandardScaler()\n",
    "X_scaled = scaler.fit_transform(X)"
   ]
  },
  {
   "cell_type": "code",
   "execution_count": 13,
   "id": "a1ed81f3",
   "metadata": {},
   "outputs": [],
   "source": [
    "# Train/Test Split\n",
    "X_train, X_test, y_train, y_test = train_test_split(X_scaled, y, test_size=0.2, random_state=42)"
   ]
  },
  {
   "cell_type": "code",
   "execution_count": 14,
   "id": "3bf1a082",
   "metadata": {},
   "outputs": [
    {
     "name": "stderr",
     "output_type": "stream",
     "text": [
      "C:\\Users\\Suyash Holkar\\anaconda3\\lib\\site-packages\\xgboost\\core.py:158: UserWarning: [13:15:59] WARNING: C:\\buildkite-agent\\builds\\buildkite-windows-cpu-autoscaling-group-i-08cbc0333d8d4aae1-1\\xgboost\\xgboost-ci-windows\\src\\learner.cc:740: \n",
      "Parameters: { \"use_label_encoder\" } are not used.\n",
      "\n",
      "  warnings.warn(smsg, UserWarning)\n"
     ]
    },
    {
     "data": {
      "text/plain": [
       "XGBClassifier(base_score=None, booster=None, callbacks=None,\n",
       "              colsample_bylevel=None, colsample_bynode=None,\n",
       "              colsample_bytree=None, device=None, early_stopping_rounds=None,\n",
       "              enable_categorical=False, eval_metric='logloss',\n",
       "              feature_types=None, gamma=None, grow_policy=None,\n",
       "              importance_type=None, interaction_constraints=None,\n",
       "              learning_rate=None, max_bin=None, max_cat_threshold=None,\n",
       "              max_cat_to_onehot=None, max_delta_step=None, max_depth=None,\n",
       "              max_leaves=None, min_child_weight=None, missing=nan,\n",
       "              monotone_constraints=None, multi_strategy=None, n_estimators=None,\n",
       "              n_jobs=None, num_parallel_tree=None, random_state=42, ...)"
      ]
     },
     "execution_count": 14,
     "metadata": {},
     "output_type": "execute_result"
    }
   ],
   "source": [
    "# Train XGBoost Classifier\n",
    "model = xgb.XGBClassifier(use_label_encoder=False, eval_metric='logloss', random_state=42)\n",
    "model.fit(X_train, y_train)"
   ]
  },
  {
   "cell_type": "code",
   "execution_count": 15,
   "id": "91d89fa6",
   "metadata": {},
   "outputs": [
    {
     "name": "stdout",
     "output_type": "stream",
     "text": [
      "[0 1 0 ... 1 1 1]\n"
     ]
    }
   ],
   "source": [
    "# Predict\n",
    "y_pred = model.predict(X_test)\n",
    "print(y_pred)"
   ]
  },
  {
   "cell_type": "code",
   "execution_count": 16,
   "id": "e2b3ab99",
   "metadata": {},
   "outputs": [
    {
     "name": "stdout",
     "output_type": "stream",
     "text": [
      "\n",
      "Evaluation Metrics:\n",
      "Accuracy: 0.79743\n",
      "MAE: 0.20257\n",
      "MSE: 0.20257\n",
      "R²: 0.18971981331144538\n",
      "\n",
      "Classification Report:\n",
      "               precision    recall  f1-score   support\n",
      "\n",
      "           0       0.80      0.80      0.80     99952\n",
      "           1       0.80      0.80      0.80    100048\n",
      "\n",
      "    accuracy                           0.80    200000\n",
      "   macro avg       0.80      0.80      0.80    200000\n",
      "weighted avg       0.80      0.80      0.80    200000\n",
      "\n"
     ]
    }
   ],
   "source": [
    "# Evaluation\n",
    "print(\"\\nEvaluation Metrics:\")\n",
    "print(\"Accuracy:\", accuracy_score(y_test, y_pred))\n",
    "print(\"MAE:\", mean_absolute_error(y_test, y_pred))\n",
    "print(\"MSE:\", mean_squared_error(y_test, y_pred))\n",
    "print(\"R²:\", r2_score(y_test, y_pred))\n",
    "print(\"\\nClassification Report:\\n\", classification_report(y_test, y_pred))"
   ]
  },
  {
   "cell_type": "code",
   "execution_count": 18,
   "id": "ca83a545",
   "metadata": {},
   "outputs": [
    {
     "data": {
      "text/plain": [
       "['D:\\\\Cost_Benefit_AI_App\\\\pythonProject\\\\models\\\\scaler.pkl']"
      ]
     },
     "execution_count": 18,
     "metadata": {},
     "output_type": "execute_result"
    }
   ],
   "source": [
    "# Save model and scaler\n",
    "joblib.dump(model, r\"D:\\Cost_Benefit_AI_App\\pythonProject\\models\\xgb_classifier.pkl\")\n",
    "joblib.dump(scaler, r\"D:\\Cost_Benefit_AI_App\\pythonProject\\models\\scaler.pkl\")"
   ]
  },
  {
   "cell_type": "code",
   "execution_count": 19,
   "id": "97d3ec5d",
   "metadata": {},
   "outputs": [],
   "source": [
    "import matplotlib.pyplot as plt\n",
    "import seaborn as sns\n",
    "from sklearn.metrics import confusion_matrix\n",
    "from sklearn.metrics import precision_recall_fscore_support"
   ]
  },
  {
   "cell_type": "code",
   "execution_count": 21,
   "id": "677830d7",
   "metadata": {},
   "outputs": [],
   "source": [
    "#confusion metrix visualization\n",
    "cm = confusion_matrix(y_test, y_pred)\n",
    "plt.figure(figsize=(6, 5))\n",
    "sns.heatmap(cm, annot=True, fmt='d', cmap='Blues', xticklabels=[0,1], yticklabels=[0,1])\n",
    "plt.title(\"Confusion Matrix\")\n",
    "plt.xlabel(\"Predicted\")\n",
    "plt.ylabel(\"Actual\")\n",
    "plt.tight_layout()\n",
    "plt.savefig(r\"D:\\Cost_Benefit_AI_App\\pythonProject\\models\\confusion_matrix.png\")\n",
    "plt.close()"
   ]
  },
  {
   "cell_type": "code",
   "execution_count": 22,
   "id": "1f9d3267",
   "metadata": {},
   "outputs": [],
   "source": [
    "#Visualization for classification report\n",
    "precision, recall, f1, support = precision_recall_fscore_support(y_test, y_pred, average=None, labels=[0, 1])\n",
    "\n",
    "labels = ['Class 0', 'Class 1']\n",
    "x = np.arange(len(labels))\n",
    "\n",
    "plt.figure(figsize=(8, 5))\n",
    "bar_width = 0.25\n",
    "plt.bar(x - bar_width, precision, width=bar_width, label='Precision')\n",
    "plt.bar(x, recall, width=bar_width, label='Recall')\n",
    "plt.bar(x + bar_width, f1, width=bar_width, label='F1 Score')\n",
    "\n",
    "plt.xticks(x, labels)\n",
    "plt.ylabel(\"Score\")\n",
    "plt.ylim(0, 1)\n",
    "plt.title(\"Classification Report Metrics\")\n",
    "plt.legend()\n",
    "plt.tight_layout()\n",
    "plt.savefig(r\"D:\\Cost_Benefit_AI_App\\pythonProject\\models\\classification_matrix.png\")\n",
    "plt.close()"
   ]
  },
  {
   "cell_type": "code",
   "execution_count": null,
   "id": "849b042c",
   "metadata": {},
   "outputs": [],
   "source": []
  }
 ],
 "metadata": {
  "kernelspec": {
   "display_name": "Python 3 (ipykernel)",
   "language": "python",
   "name": "python3"
  },
  "language_info": {
   "codemirror_mode": {
    "name": "ipython",
    "version": 3
   },
   "file_extension": ".py",
   "mimetype": "text/x-python",
   "name": "python",
   "nbconvert_exporter": "python",
   "pygments_lexer": "ipython3",
   "version": "3.9.7"
  }
 },
 "nbformat": 4,
 "nbformat_minor": 5
}
